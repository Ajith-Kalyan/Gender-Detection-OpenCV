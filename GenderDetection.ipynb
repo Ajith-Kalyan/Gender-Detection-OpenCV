{
 "cells": [
  {
   "cell_type": "markdown",
   "source": [
    "# Gender Detection using Python"
   ],
   "metadata": {
    "collapsed": false
   }
  },
  {
   "cell_type": "markdown",
   "source": [
    "### cvlib is a python library which makes face detection, gender detection and object detection easier to implement. It uses yolo's architecture underneath it."
   ],
   "metadata": {
    "collapsed": false
   }
  },
  {
   "cell_type": "markdown",
   "source": [
    "#### Importing dependencies"
   ],
   "metadata": {
    "collapsed": false
   }
  },
  {
   "cell_type": "code",
   "execution_count": 2,
   "outputs": [],
   "source": [
    "import cv2\n",
    "import cvlib as cv\n",
    "import sys\n",
    "import numpy as np\n",
    "\n"
   ],
   "metadata": {
    "collapsed": false
   }
  },
  {
   "cell_type": "markdown",
   "source": [
    "## Detecting Faces from webcam"
   ],
   "metadata": {
    "collapsed": false
   }
  },
  {
   "cell_type": "code",
   "execution_count": 3,
   "outputs": [
    {
     "name": "stdout",
     "output_type": "stream",
     "text": [
      "[INFO] Initializing gender detection model ..\n"
     ]
    }
   ],
   "source": [
    "cap = cv2.VideoCapture(0)\n",
    "\n",
    "# Check if the camera is opened correctly\n",
    "if not cap.isOpened():\n",
    "    raise Exception(\"Could not open video device\")\n",
    "\n",
    "while True:\n",
    "    ret, frame = cap.read()\n",
    "\n",
    "    # Check if the frame was successfully captured\n",
    "    if not ret:\n",
    "        print(\"Error: failed to capture frame\")\n",
    "        break\n",
    "\n",
    "    face, confidence = cv.detect_face(frame)\n",
    "    padding = 20\n",
    "\n",
    "    for i in face:\n",
    "        (x,y) = max(0, i[0]-padding), max(0, i[1]-padding)\n",
    "        (x2, y2) = min(frame.shape[1]-1, i[2]+padding), min(frame.shape[0]-1,i[3]+padding)\n",
    "\n",
    "        new_img = cv2.rectangle(frame, (x,y), (x2,y2), (255, 255, 0), 2)\n",
    "        #cv2.imshow(\"Frame\", new_img)\n",
    "\n",
    "        crop = np.copy(new_img[y:y2, x:x2])\n",
    "        (label, confidence) = cv.detect_gender(crop)\n",
    "\n",
    "        #for multiple faces\n",
    "        idx = np.argmax(confidence)\n",
    "        label = label[idx]\n",
    "        label = \"{}: {:.2f}%\".format(label, confidence[idx] * 100)\n",
    "\n",
    "        Y = y - 10 if y - 10>10 else y+10\n",
    "\n",
    "        cv2.putText(new_img, label, (x, Y), cv2.FONT_HERSHEY_SIMPLEX, 0.7, (0, 180, 0), 2)\n",
    "        cv2.imshow(\"Frame\",new_img)\n",
    "\n",
    "\n",
    "    # Wait for the user to press a key\n",
    "    key = cv2.waitKey(1)\n",
    "    # If the user presses the 'q' key, break the loop\n",
    "    if key == ord('q'):\n",
    "        break\n",
    "\n",
    "# Release the VideoCapture object and close all windows\n",
    "cap.release()\n",
    "cv2.destroyAllWindows()\n"
   ],
   "metadata": {
    "collapsed": false
   }
  },
  {
   "cell_type": "code",
   "execution_count": null,
   "outputs": [],
   "source": [],
   "metadata": {
    "collapsed": false
   }
  }
 ],
 "metadata": {
  "kernelspec": {
   "name": "portfolio",
   "language": "python",
   "display_name": "portfolio"
  },
  "language_info": {
   "codemirror_mode": {
    "name": "ipython",
    "version": 2
   },
   "file_extension": ".py",
   "mimetype": "text/x-python",
   "name": "python",
   "nbconvert_exporter": "python",
   "pygments_lexer": "ipython2",
   "version": "2.7.6"
  }
 },
 "nbformat": 4,
 "nbformat_minor": 0
}
